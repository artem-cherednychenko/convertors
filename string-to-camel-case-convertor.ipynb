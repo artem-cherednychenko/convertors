{
 "cells": [
  {
   "cell_type": "markdown",
   "id": "16fbc051",
   "metadata": {},
   "source": [
    "# String-to-Camel Case Convertor\n",
    "\n",
    "Task: to create a function so that it can convert dash/underscore delimited words into camel casing. The first word within the output should be capitalized only if the original word is capitalized (known as Upper Camel Case, also often referred to as Pascal case). The next words should be always capitalized."
   ]
  },
  {
   "cell_type": "code",
   "execution_count": 1,
   "id": "6728fffb",
   "metadata": {},
   "outputs": [],
   "source": [
    "def to_camel_case(text):\n",
    "    import re\n",
    "    result = re.findall(r'[^-|_]+',text)\n",
    "    if result != []:\n",
    "        first = result.pop(0)\n",
    "        return first+''.join([word.capitalize() for word in result])\n",
    "    else:\n",
    "        return ''"
   ]
  },
  {
   "cell_type": "markdown",
   "id": "67bbc358",
   "metadata": {},
   "source": [
    "# Examples of my code in action"
   ]
  },
  {
   "cell_type": "code",
   "execution_count": 2,
   "id": "324d8ff5",
   "metadata": {},
   "outputs": [
    {
     "data": {
      "text/plain": [
       "'RussiaIsATerroristState'"
      ]
     },
     "execution_count": 2,
     "metadata": {},
     "output_type": "execute_result"
    }
   ],
   "source": [
    "to_camel_case('Russia_is_a_terrorist_state')"
   ]
  },
  {
   "cell_type": "code",
   "execution_count": 3,
   "id": "2362d5e7",
   "metadata": {},
   "outputs": [
    {
     "data": {
      "text/plain": [
       "'standWithUkraine'"
      ]
     },
     "execution_count": 3,
     "metadata": {},
     "output_type": "execute_result"
    }
   ],
   "source": [
    "to_camel_case('stand-with-Ukraine')"
   ]
  }
 ],
 "metadata": {
  "kernelspec": {
   "display_name": "Python 3 (ipykernel)",
   "language": "python",
   "name": "python3"
  },
  "language_info": {
   "codemirror_mode": {
    "name": "ipython",
    "version": 3
   },
   "file_extension": ".py",
   "mimetype": "text/x-python",
   "name": "python",
   "nbconvert_exporter": "python",
   "pygments_lexer": "ipython3",
   "version": "3.11.4"
  }
 },
 "nbformat": 4,
 "nbformat_minor": 5
}
