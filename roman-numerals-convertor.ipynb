{
 "cells": [
  {
   "cell_type": "markdown",
   "id": "54447816",
   "metadata": {},
   "source": [
    "# Roman Numerals Converter\n",
    "\n",
    "Below I present my solution of codewars's respective kata ([link](https://www.codewars.com/kata/51b66044bce5799a7f000003/train/python)).\n",
    "\n",
    "Task: to write 2 functions that convert a Roman numeral to and from an integer value (Arabic numeral).\n",
    "\n",
    "Modern Roman numerals are written by expressing each digit separately starting with the left most digit and skipping any digit with a value of zero. In Roman numerals 1990 is rendered as follows: 1000=M, 900=CM, 90=XC; resulting in MCMXC. 2008 is rendered as follows: 2000=MM, 8=VIII; or MMVIII. 1666 actually uses each Roman symbol in descending order: MDCLXVI.\n",
    "\n",
    "*NOTE 1*: Input range : 1 <= n < 4000\n",
    "\n",
    "*NOTE 2*: In this kata 4 should be represented as IV, NOT as IIII (the \"watchmaker's four\")."
   ]
  },
  {
   "cell_type": "code",
   "execution_count": 1,
   "id": "3b439173",
   "metadata": {},
   "outputs": [],
   "source": [
    "class RomanNumerals:\n",
    "    @staticmethod\n",
    "    def to_roman(val):\n",
    "        \n",
    "        # Calculate Arabic numerals of Arabic number in the input:\n",
    "        thousands = val//1000\n",
    "        hundreds = val%1000//100\n",
    "        tens = val%100//10\n",
    "        ones = val%10\n",
    "        \n",
    "        # Create and fill the list of Roman numerals corresponding to Arabic numerals above\n",
    "        roman_support_list = []\n",
    "         \n",
    "        roman_support_list.append(thousands*'M')\n",
    "\n",
    "        if hundreds < 4:\n",
    "            roman_support_list.append(hundreds*'C')\n",
    "        elif hundreds == 4:\n",
    "            roman_support_list.append('CD')\n",
    "        elif hundreds >= 5 and hundreds <= 8:\n",
    "            roman_support_list.extend(['D',(hundreds-5)*'C'])\n",
    "        else:\n",
    "            roman_support_list.append('CM')\n",
    "\n",
    "        if tens < 4:\n",
    "            roman_support_list.append(tens*'X')\n",
    "        elif tens == 4:\n",
    "            roman_support_list.append('XL')\n",
    "        elif tens >= 5 and tens <= 8:\n",
    "            roman_support_list.extend(['L',(tens-5)*'X'])\n",
    "        else:\n",
    "            roman_support_list.append('XC')\n",
    "\n",
    "        if ones < 4:\n",
    "            roman_support_list.append(ones*'I')\n",
    "        elif ones == 4:\n",
    "            roman_support_list.append('IV')\n",
    "        elif ones >= 5 and ones <= 8:\n",
    "            roman_support_list.extend(['V',(ones-5)*'I'])\n",
    "        else:\n",
    "            roman_support_list.append('IX')\n",
    "        \n",
    "        # Join the list of Roman numerals into one Roman number\n",
    "        return ''.join(roman_support_list)\n",
    "\n",
    "    @staticmethod\n",
    "    def from_roman(roman_num):\n",
    "        \n",
    "        roman_to_arabic = {'M':1000, 'D': 500, 'C': 100, 'L': 50, 'X': 10, 'V': 5, 'I': 1}\n",
    "        \n",
    "        # Note: if Roman numeral in Roman number is followed by greater Roman numeral, that means that the first one is used to decrease the second one\n",
    "        \n",
    "        # Create and fill the list of Arabic numbers corresponding to Roman numerals in the input\n",
    "        arabic_list = []\n",
    "        for i in roman_num:\n",
    "            arabic_list.append(roman_to_arabic[i])\n",
    "        \n",
    "        # Change sign to '-' if Arabic number in the list above is followed by greater Arabic number \n",
    "        for j in range(len(arabic_list)-1):\n",
    "            if arabic_list[j+1] > arabic_list[j]:\n",
    "                arabic_list[j] = -arabic_list[j]\n",
    "        \n",
    "        return sum(arabic_list)"
   ]
  },
  {
   "cell_type": "markdown",
   "id": "69335e5d",
   "metadata": {},
   "source": [
    "# Examples of my code in action"
   ]
  },
  {
   "cell_type": "code",
   "execution_count": 2,
   "id": "f96588b1",
   "metadata": {},
   "outputs": [
    {
     "data": {
      "text/plain": [
       "'CDXCIX'"
      ]
     },
     "execution_count": 2,
     "metadata": {},
     "output_type": "execute_result"
    }
   ],
   "source": [
    "RomanNumerals.to_roman(499)"
   ]
  },
  {
   "cell_type": "code",
   "execution_count": 3,
   "id": "6638f41c",
   "metadata": {},
   "outputs": [
    {
     "data": {
      "text/plain": [
       "'MDCLXVI'"
      ]
     },
     "execution_count": 3,
     "metadata": {},
     "output_type": "execute_result"
    }
   ],
   "source": [
    "RomanNumerals.to_roman(1666)"
   ]
  },
  {
   "cell_type": "code",
   "execution_count": 4,
   "id": "609c4f76",
   "metadata": {},
   "outputs": [
    {
     "data": {
      "text/plain": [
       "'MMXXIII'"
      ]
     },
     "execution_count": 4,
     "metadata": {},
     "output_type": "execute_result"
    }
   ],
   "source": [
    "RomanNumerals.to_roman(2023)"
   ]
  }
 ],
 "metadata": {
  "kernelspec": {
   "display_name": "Python 3 (ipykernel)",
   "language": "python",
   "name": "python3"
  },
  "language_info": {
   "codemirror_mode": {
    "name": "ipython",
    "version": 3
   },
   "file_extension": ".py",
   "mimetype": "text/x-python",
   "name": "python",
   "nbconvert_exporter": "python",
   "pygments_lexer": "ipython3",
   "version": "3.11.4"
  }
 },
 "nbformat": 4,
 "nbformat_minor": 5
}
