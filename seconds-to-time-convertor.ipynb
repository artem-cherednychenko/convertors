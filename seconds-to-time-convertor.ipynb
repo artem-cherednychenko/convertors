{
 "cells": [
  {
   "cell_type": "markdown",
   "id": "75853429",
   "metadata": {},
   "source": [
    "# Seconds-to-Time Converter\n",
    "\n",
    "Below I present my solution of codewars's respective kata ([link](https://www.codewars.com/kata/52685f7382004e774f0001f7)).\n",
    "\n",
    "Task: write a function, which takes a non-negative integer (seconds) as input and returns the time in a human-readable format (HH:MM:SS)\n",
    "\n",
    " - HH = hours, padded to 2 digits, range: 00 - 99\n",
    " - MM = minutes, padded to 2 digits, range: 00 - 59\n",
    " - SS = seconds, padded to 2 digits, range: 00 - 59\n",
    "\n",
    "*NOTE 1*: The maximum time never exceeds 359999 (99:59:59)"
   ]
  },
  {
   "cell_type": "code",
   "execution_count": 1,
   "id": "e1477931",
   "metadata": {},
   "outputs": [],
   "source": [
    "def make_readable(seconds):\n",
    "    m, s = divmod(seconds, 60)\n",
    "    h, m = divmod(m, 60)\n",
    "    return \"%02d:%02d:%02d\" % (h, m, s)"
   ]
  },
  {
   "cell_type": "markdown",
   "id": "a0437469",
   "metadata": {},
   "source": [
    "# Examples of my code in action"
   ]
  },
  {
   "cell_type": "code",
   "execution_count": 2,
   "id": "8dd18bf3",
   "metadata": {},
   "outputs": [
    {
     "data": {
      "text/plain": [
       "'00:01:12'"
      ]
     },
     "execution_count": 2,
     "metadata": {},
     "output_type": "execute_result"
    }
   ],
   "source": [
    "make_readable(72)"
   ]
  },
  {
   "cell_type": "code",
   "execution_count": 3,
   "id": "cc7df40c",
   "metadata": {},
   "outputs": [
    {
     "data": {
      "text/plain": [
       "'00:16:45'"
      ]
     },
     "execution_count": 3,
     "metadata": {},
     "output_type": "execute_result"
    }
   ],
   "source": [
    "make_readable(1005)"
   ]
  },
  {
   "cell_type": "code",
   "execution_count": 4,
   "id": "d4ce2293",
   "metadata": {},
   "outputs": [
    {
     "data": {
      "text/plain": [
       "'16:44:10'"
      ]
     },
     "execution_count": 4,
     "metadata": {},
     "output_type": "execute_result"
    }
   ],
   "source": [
    "make_readable(60250)"
   ]
  },
  {
   "cell_type": "code",
   "execution_count": 5,
   "id": "55801002",
   "metadata": {},
   "outputs": [
    {
     "data": {
      "text/plain": [
       "'66:54:51'"
      ]
     },
     "execution_count": 5,
     "metadata": {},
     "output_type": "execute_result"
    }
   ],
   "source": [
    "make_readable(240891)"
   ]
  }
 ],
 "metadata": {
  "kernelspec": {
   "display_name": "Python 3 (ipykernel)",
   "language": "python",
   "name": "python3"
  },
  "language_info": {
   "codemirror_mode": {
    "name": "ipython",
    "version": 3
   },
   "file_extension": ".py",
   "mimetype": "text/x-python",
   "name": "python",
   "nbconvert_exporter": "python",
   "pygments_lexer": "ipython3",
   "version": "3.11.4"
  }
 },
 "nbformat": 4,
 "nbformat_minor": 5
}
