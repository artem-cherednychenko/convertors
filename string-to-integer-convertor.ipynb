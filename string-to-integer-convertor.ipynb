{
 "cells": [
  {
   "cell_type": "markdown",
   "id": "faff94a4",
   "metadata": {},
   "source": [
    "# String-to-Integer Convertor\n",
    "\n",
    "Task: to create a function able to convert a string into an integer. The strings simply represent the numbers in words.\n",
    "\n",
    "Examples:\n",
    "\n",
    " - \"one\" => 1\n",
    " - \"twenty\" => 20\n",
    " - \"two hundred forty-six\" => 246\n",
    " - \"seven hundred eighty-three thousand nine hundred and nineteen\" => 783919\n",
    "\n",
    "*Note 1*: The minimum number is \"zero\" (inclusively)\n",
    "\n",
    "*Note 2*: The maximum number, which must be supported is 1 million (inclusively)\n",
    "\n",
    "*Note 3*: The \"and\" in e.g. \"one hundred and twenty-four\" is optional, in some cases it's present and in others it's not"
   ]
  },
  {
   "cell_type": "code",
   "execution_count": 1,
   "id": "9835015d",
   "metadata": {},
   "outputs": [],
   "source": [
    "def parse_int(string):\n",
    "    dict = {\n",
    "        'zero': 0,\n",
    "        'one': 1,\n",
    "        'two': 2,\n",
    "        'three': 3,\n",
    "        'four': 4,\n",
    "        'five': 5,\n",
    "        'six': 6,\n",
    "        'seven': 7,\n",
    "        'eight': 8,\n",
    "        'nine': 9,\n",
    "        'ten': 10,\n",
    "        'eleven': 11,\n",
    "        'twelve': 12,\n",
    "        'thirteen': 13,\n",
    "        'fourteen': 14,\n",
    "        'fifteen': 15,\n",
    "        'sixteen': 16,\n",
    "        'seventeen': 17,\n",
    "        'eighteen': 18,\n",
    "        'nineteen': 19,\n",
    "        'twenty': 20,\n",
    "        'thirty': 30,\n",
    "        'forty': 40,\n",
    "        'fifty': 50,\n",
    "        'sixty': 60,\n",
    "        'seventy': 70,\n",
    "        'eighty': 80,\n",
    "        'ninety': 90,\n",
    "        'hundred': 100,\n",
    "        'thousand': 1000,\n",
    "        'million': 1000000,\n",
    "        '-': '+',\n",
    "        'and': '+',\n",
    "        ' ':'+',\n",
    "        '':''\n",
    "    }\n",
    "    \n",
    "    import re\n",
    "    \n",
    "    numbers_in_words = string.split(' thousand')\n",
    "    if numbers_in_words[-1] == '':\n",
    "        numbers_in_words[-1] = 'zero'\n",
    "    \n",
    "    numbers_in_digits = []\n",
    "    \n",
    "    for i in numbers_in_words:\n",
    "        digits = ''\n",
    "        for j in re.split('(\\s|-)',i):\n",
    "            digits += str(dict[j])\n",
    "        numbers_in_digits.append(digits)\n",
    "    \n",
    "    formulae = []\n",
    "    for x in numbers_in_digits:\n",
    "        formulae.append(x.replace('+100','*100'))\n",
    "    \n",
    "    final_integer = 0\n",
    "    for y in range(len(formulae)):\n",
    "        final_integer += eval(formulae[-y-1])*1000**(y)\n",
    "\n",
    "    return final_integer"
   ]
  },
  {
   "cell_type": "markdown",
   "id": "ac5f51ef",
   "metadata": {},
   "source": [
    "# Examples of my code in action"
   ]
  },
  {
   "cell_type": "code",
   "execution_count": 2,
   "id": "73d04c75",
   "metadata": {},
   "outputs": [
    {
     "data": {
      "text/plain": [
       "246"
      ]
     },
     "execution_count": 2,
     "metadata": {},
     "output_type": "execute_result"
    }
   ],
   "source": [
    "parse_int('two hundred forty-six')"
   ]
  },
  {
   "cell_type": "code",
   "execution_count": 3,
   "id": "dc56cdca",
   "metadata": {},
   "outputs": [
    {
     "data": {
      "text/plain": [
       "1997"
      ]
     },
     "execution_count": 3,
     "metadata": {},
     "output_type": "execute_result"
    }
   ],
   "source": [
    "parse_int('one thousand nine hundred and ninety-seven')"
   ]
  },
  {
   "cell_type": "code",
   "execution_count": 4,
   "id": "5e0759f5",
   "metadata": {},
   "outputs": [
    {
     "data": {
      "text/plain": [
       "629097"
      ]
     },
     "execution_count": 4,
     "metadata": {},
     "output_type": "execute_result"
    }
   ],
   "source": [
    "parse_int('six hundred twenty-nine thousand and ninety-seven')"
   ]
  },
  {
   "cell_type": "code",
   "execution_count": 5,
   "id": "c6bd5bbc",
   "metadata": {},
   "outputs": [
    {
     "data": {
      "text/plain": [
       "1000000"
      ]
     },
     "execution_count": 5,
     "metadata": {},
     "output_type": "execute_result"
    }
   ],
   "source": [
    "parse_int('one million')"
   ]
  }
 ],
 "metadata": {
  "kernelspec": {
   "display_name": "Python 3 (ipykernel)",
   "language": "python",
   "name": "python3"
  },
  "language_info": {
   "codemirror_mode": {
    "name": "ipython",
    "version": 3
   },
   "file_extension": ".py",
   "mimetype": "text/x-python",
   "name": "python",
   "nbconvert_exporter": "python",
   "pygments_lexer": "ipython3",
   "version": "3.11.4"
  }
 },
 "nbformat": 4,
 "nbformat_minor": 5
}
